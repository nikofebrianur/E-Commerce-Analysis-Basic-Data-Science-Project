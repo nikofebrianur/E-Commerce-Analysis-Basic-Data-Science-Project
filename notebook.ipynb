{
 "cells": [
  {
   "cell_type": "markdown",
   "metadata": {
    "id": "cP5zh7Ww85Fm"
   },
   "source": [
    "# Proyek Analisis Data: E-Commerce Public Dataset\n",
    "- Nama: Niko Febrianur\n",
    "- Email: nikofebrianur@gmail.com\n",
    "- Id Dicoding: nikofebrianur"
   ]
  },
  {
   "cell_type": "markdown",
   "metadata": {
    "id": "ggwOFmpI88dG"
   },
   "source": [
    "## Menentukan Pertanyaan Bisnis"
   ]
  },
  {
   "cell_type": "markdown",
   "metadata": {
    "id": "6irqmTtg8-IC"
   },
   "source": [
    "- Kategori produk apa saja yang memiliki review paling bagus (skor 5) di tahun 2018 dengan harga lebih dari USD 2000?\n",
    "- Metode pembayaran apa yang paling banyak digunakan pelanggan untuk membeli barang berharga lebih dari USD 1000?\n",
    "\n"
   ]
  },
  {
   "cell_type": "markdown",
   "metadata": {
    "id": "EueHsNk89AsY"
   },
   "source": [
    "## Menyiapkan semua library yang dibutuhkan"
   ]
  },
  {
   "cell_type": "code",
   "execution_count": 1,
   "metadata": {
    "id": "4cmWv4qc8xWu"
   },
   "outputs": [
    {
     "name": "stdout",
     "output_type": "stream",
     "text": [
      "Requirement already satisfied: setuptools in c:\\users\\user\\anaconda3\\envs\\main-ds\\lib\\site-packages (68.0.0)\n",
      "Collecting setuptools\n",
      "  Obtaining dependency information for setuptools from https://files.pythonhosted.org/packages/4f/ab/0bcfebdfc3bfa8554b2b2c97a555569c4c1ebc74ea288741ea8326c51906/setuptools-68.1.2-py3-none-any.whl.metadata\n",
      "  Downloading setuptools-68.1.2-py3-none-any.whl.metadata (6.2 kB)\n",
      "Downloading setuptools-68.1.2-py3-none-any.whl (805 kB)\n",
      "   ---------------------------------------- 0.0/805.1 kB ? eta -:--:--\n",
      "    --------------------------------------- 10.2/805.1 kB ? eta -:--:--\n",
      "   --- ----------------------------------- 71.7/805.1 kB 991.0 kB/s eta 0:00:01\n",
      "   ------------ --------------------------- 256.0/805.1 kB 2.0 MB/s eta 0:00:01\n",
      "   ------------------------- -------------- 522.2/805.1 kB 3.3 MB/s eta 0:00:01\n",
      "   ---------------------------------------- 805.1/805.1 kB 3.9 MB/s eta 0:00:00\n",
      "Installing collected packages: setuptools\n",
      "  Attempting uninstall: setuptools\n",
      "    Found existing installation: setuptools 68.0.0\n",
      "    Uninstalling setuptools-68.0.0:\n",
      "      Successfully uninstalled setuptools-68.0.0\n",
      "Successfully installed setuptools-68.1.2\n"
     ]
    }
   ],
   "source": [
    "import numpy as np\n",
    "import pandas as pd\n",
    "import matplotlib.pyplot as plt\n",
    "import seaborn as sns\n",
    "!pip install --upgrade setuptools"
   ]
  },
  {
   "cell_type": "markdown",
   "metadata": {
    "id": "7DwSpkkZ9BqV"
   },
   "source": [
    "## Data Wrangling"
   ]
  },
  {
   "cell_type": "markdown",
   "metadata": {
    "id": "ZuJuLGxe9D9O"
   },
   "source": [
    "### Gathering Data"
   ]
  },
  {
   "cell_type": "code",
   "execution_count": 2,
   "metadata": {
    "colab": {
     "base_uri": "https://localhost:8080/"
    },
    "id": "Rg3wtvOr9DUm",
    "outputId": "0ae92b32-0f16-4b60-f68b-0cf0f7303dea"
   },
   "outputs": [
    {
     "ename": "ModuleNotFoundError",
     "evalue": "No module named 'google.colab'",
     "output_type": "error",
     "traceback": [
      "\u001b[1;31m---------------------------------------------------------------------------\u001b[0m",
      "\u001b[1;31mModuleNotFoundError\u001b[0m                       Traceback (most recent call last)",
      "Cell \u001b[1;32mIn[2], line 1\u001b[0m\n\u001b[1;32m----> 1\u001b[0m \u001b[38;5;28;01mfrom\u001b[39;00m \u001b[38;5;21;01mgoogle\u001b[39;00m\u001b[38;5;21;01m.\u001b[39;00m\u001b[38;5;21;01mcolab\u001b[39;00m \u001b[38;5;28;01mimport\u001b[39;00m drive\n\u001b[0;32m      2\u001b[0m drive\u001b[38;5;241m.\u001b[39mmount(\u001b[38;5;124m'\u001b[39m\u001b[38;5;124m/content/gdrive\u001b[39m\u001b[38;5;124m'\u001b[39m)\n\u001b[0;32m      4\u001b[0m get_ipython()\u001b[38;5;241m.\u001b[39msystem(\u001b[38;5;124m\"\u001b[39m\u001b[38;5;124mcp \u001b[39m\u001b[38;5;124m'\u001b[39m\u001b[38;5;124m/content/gdrive/MyDrive/Kaggle Datasets/E-Commerce Public Dataset\u001b[39m\u001b[38;5;124m'\u001b[39m\u001b[38;5;124m\"\u001b[39m)\n",
      "\u001b[1;31mModuleNotFoundError\u001b[0m: No module named 'google.colab'"
     ]
    }
   ],
   "source": [
    "from google.colab import drive\n",
    "drive.mount('/content/gdrive')\n",
    "\n",
    "!cp '/content/gdrive/MyDrive/Kaggle Datasets/E-Commerce Public Dataset'"
   ]
  },
  {
   "cell_type": "markdown",
   "metadata": {
    "id": "1hLcrx2X87lI"
   },
   "source": [
    "####Products Data"
   ]
  },
  {
   "cell_type": "markdown",
   "metadata": {
    "id": "ooIqEGU_tfvj"
   },
   "source": [
    "\n",
    "\n",
    "> Membuat dataframe dari dataset products_dataset.csv\n",
    "\n"
   ]
  },
  {
   "cell_type": "code",
   "execution_count": null,
   "metadata": {
    "colab": {
     "base_uri": "https://localhost:8080/",
     "height": 0
    },
    "id": "1gm_9CcI8c0_",
    "outputId": "6e5e35bf-0910-4b7c-cfd4-1846eca90970"
   },
   "outputs": [],
   "source": [
    "products_df = pd.read_csv(\"/content/gdrive/MyDrive/Kaggle Datasets/E-Commerce Public Dataset/products_dataset.csv\")\n",
    "products_df.head(10)"
   ]
  },
  {
   "cell_type": "markdown",
   "metadata": {
    "id": "2AFrmYge8qiw"
   },
   "source": [
    "####Orders Data"
   ]
  },
  {
   "cell_type": "markdown",
   "metadata": {
    "id": "ub26-MiGto-b"
   },
   "source": [
    "\n",
    "\n",
    "> Membuat dataframe dari dataset order_items_dataset.csv\n",
    "\n"
   ]
  },
  {
   "cell_type": "code",
   "execution_count": null,
   "metadata": {
    "colab": {
     "base_uri": "https://localhost:8080/",
     "height": 0
    },
    "id": "HY4GnSUIPIPn",
    "outputId": "40895829-969e-48f3-eb53-5d7694526f4b"
   },
   "outputs": [],
   "source": [
    "order_items_df = pd.read_csv(\"/content/gdrive/MyDrive/Kaggle Datasets/E-Commerce Public Dataset/order_items_dataset.csv\")\n",
    "order_items_df.head(10)"
   ]
  },
  {
   "cell_type": "markdown",
   "metadata": {
    "id": "-n2SrAbqtuBC"
   },
   "source": [
    "\n",
    "\n",
    "\n",
    "> Membuat dataframe dari dataset order_payments_dataset.csv\n",
    "\n"
   ]
  },
  {
   "cell_type": "code",
   "execution_count": null,
   "metadata": {
    "colab": {
     "base_uri": "https://localhost:8080/",
     "height": 0
    },
    "id": "Ln-o3JDs8STI",
    "outputId": "b8a97171-f83a-4868-8ade-561b1930a4c9"
   },
   "outputs": [],
   "source": [
    "order_payments_df = pd.read_csv(\"/content/gdrive/MyDrive/Kaggle Datasets/E-Commerce Public Dataset/order_payments_dataset.csv\")\n",
    "order_payments_df.head(10)"
   ]
  },
  {
   "cell_type": "markdown",
   "metadata": {
    "id": "wFNMXfd1txZ7"
   },
   "source": [
    "\n",
    "\n",
    "> INNER JOIN dataframe order_items_df dengan order_payments_dataset_df\n",
    "\n"
   ]
  },
  {
   "cell_type": "code",
   "execution_count": null,
   "metadata": {
    "colab": {
     "base_uri": "https://localhost:8080/",
     "height": 0
    },
    "id": "OLZmmpwPFpIf",
    "outputId": "949b7349-4142-442f-abe0-b926d73d7372"
   },
   "outputs": [],
   "source": [
    "merged_order_items_payments_df = pd.merge(\n",
    "    left=order_items_df,\n",
    "    right=order_payments_df,\n",
    "    how=\"inner\",\n",
    "    left_on=\"order_id\",\n",
    "    right_on=\"order_id\"\n",
    ")\n",
    "merged_order_items_payments_df.head(10)"
   ]
  },
  {
   "cell_type": "markdown",
   "metadata": {
    "id": "ecSYmsRZuGFk"
   },
   "source": [
    "\n",
    "\n",
    "> Membuat dataframe dari dataset order_reviews_dataset.csv\n",
    "\n"
   ]
  },
  {
   "cell_type": "code",
   "execution_count": null,
   "metadata": {
    "colab": {
     "base_uri": "https://localhost:8080/",
     "height": 0
    },
    "id": "CXKSyNgb8wLY",
    "outputId": "69a67bcf-e91f-4f97-d5e3-b80850c04afb"
   },
   "outputs": [],
   "source": [
    "order_reviews_df = pd.read_csv(\"/content/gdrive/MyDrive/Kaggle Datasets/E-Commerce Public Dataset/order_reviews_dataset.csv\")\n",
    "order_reviews_df.head(10)"
   ]
  },
  {
   "cell_type": "markdown",
   "metadata": {
    "id": "2ZhE66ISuKX7"
   },
   "source": [
    "\n",
    "\n",
    "> Membuat dataframe dari dataset orders_dataset_dataset.csv\n",
    "\n"
   ]
  },
  {
   "cell_type": "code",
   "execution_count": null,
   "metadata": {
    "colab": {
     "base_uri": "https://localhost:8080/",
     "height": 0
    },
    "id": "oqe-Wp8g8z93",
    "outputId": "bf6d25fe-d5fd-433b-d65b-2f5f886ae6ab"
   },
   "outputs": [],
   "source": [
    "orders_df = pd.read_csv(\"/content/gdrive/MyDrive/Kaggle Datasets/E-Commerce Public Dataset/orders_dataset.csv\")\n",
    "orders_df.head(10)"
   ]
  },
  {
   "cell_type": "markdown",
   "metadata": {
    "id": "uA8CzIYwuQnK"
   },
   "source": [
    "\n",
    "\n",
    "> INNER JOIN dataframe order_reviews_df dengan orders_df\n",
    "\n"
   ]
  },
  {
   "cell_type": "code",
   "execution_count": null,
   "metadata": {
    "colab": {
     "base_uri": "https://localhost:8080/",
     "height": 0
    },
    "id": "DsKcw2jZGCkP",
    "outputId": "99b143f8-960a-4494-a395-2b3b895ddfe0"
   },
   "outputs": [],
   "source": [
    "merged_order_reviews_df = pd.merge(\n",
    "    left=order_reviews_df,\n",
    "    right=orders_df,\n",
    "    how=\"inner\",\n",
    "    left_on=\"order_id\",\n",
    "    right_on=\"order_id\"\n",
    ")\n",
    "merged_order_reviews_df.head(10)"
   ]
  },
  {
   "cell_type": "markdown",
   "metadata": {
    "id": "jy8U6VlwuU7i"
   },
   "source": [
    "\n",
    "\n",
    "> INNER JOIN dataframe merged_order_items_payments_df dengan merged_order_reviews_df\n",
    "\n"
   ]
  },
  {
   "cell_type": "code",
   "execution_count": null,
   "metadata": {
    "colab": {
     "base_uri": "https://localhost:8080/",
     "height": 0
    },
    "id": "GukUdFULFNt_",
    "outputId": "1a6601ea-3e70-4879-a272-3ccf8d5f0fee"
   },
   "outputs": [],
   "source": [
    "orders_data_df = pd.merge(\n",
    "    left=merged_order_items_payments_df,\n",
    "    right=merged_order_reviews_df,\n",
    "    how=\"inner\",\n",
    "    left_on=\"order_id\",\n",
    "    right_on=\"order_id\"\n",
    ")\n",
    "orders_data_df.head(10)"
   ]
  },
  {
   "cell_type": "markdown",
   "metadata": {
    "id": "BvZAfrSH9F2U"
   },
   "source": [
    "### Assessing Data"
   ]
  },
  {
   "cell_type": "markdown",
   "metadata": {
    "id": "_Y-CgXir-LVX"
   },
   "source": [
    "####Products Data"
   ]
  },
  {
   "cell_type": "markdown",
   "metadata": {
    "id": "Qxs3sqdTu8IL"
   },
   "source": [
    "\n",
    "\n",
    "> Mendapatkan info column pada dataframe products_df\n",
    "\n"
   ]
  },
  {
   "cell_type": "code",
   "execution_count": null,
   "metadata": {
    "colab": {
     "base_uri": "https://localhost:8080/"
    },
    "id": "aZfVTiRZCX0n",
    "outputId": "7e4e1d29-15e5-40bf-c747-886da49b4677"
   },
   "outputs": [],
   "source": [
    "products_df.info()"
   ]
  },
  {
   "cell_type": "markdown",
   "metadata": {
    "id": "PJvsvQu0vOwb"
   },
   "source": [
    "\n",
    "\n",
    "> Mendapatkan informasi terkait missing value di dataframe products_df\n",
    "\n"
   ]
  },
  {
   "cell_type": "code",
   "execution_count": null,
   "metadata": {
    "colab": {
     "base_uri": "https://localhost:8080/"
    },
    "id": "fx7PaLsV9G8M",
    "outputId": "65d2b13c-e7a6-49d7-963b-61bdf9e10e5e"
   },
   "outputs": [],
   "source": [
    "products_df.isnull().sum()"
   ]
  },
  {
   "cell_type": "markdown",
   "metadata": {
    "id": "km_USWI7vZ2K"
   },
   "source": [
    "\n",
    "> Mendapatkan informasi terkait duplikasi di dataframe products_df\n",
    "\n",
    "\n"
   ]
  },
  {
   "cell_type": "code",
   "execution_count": null,
   "metadata": {
    "colab": {
     "base_uri": "https://localhost:8080/"
    },
    "id": "M2I2LRA09yEY",
    "outputId": "72344f63-9303-4d30-90ad-5810d243b981"
   },
   "outputs": [],
   "source": [
    "print(\"Jumlah duplikasi: \", products_df.duplicated().sum())"
   ]
  },
  {
   "cell_type": "markdown",
   "metadata": {
    "id": "_0wwlKnfvpYy"
   },
   "source": [
    "\n",
    "\n",
    "> Mendapatkan rangkuman parameter statistik dari dataframe products_df\n",
    "\n"
   ]
  },
  {
   "cell_type": "code",
   "execution_count": null,
   "metadata": {
    "colab": {
     "base_uri": "https://localhost:8080/",
     "height": 0
    },
    "id": "iCs6ubd2Cn74",
    "outputId": "79805e3d-971a-4148-d883-02b3f0bb853e"
   },
   "outputs": [],
   "source": [
    "products_df.describe()"
   ]
  },
  {
   "cell_type": "markdown",
   "metadata": {
    "id": "eK4zoov1-RNA"
   },
   "source": [
    "#### Orders Data"
   ]
  },
  {
   "cell_type": "markdown",
   "metadata": {
    "id": "usMV8-JfwGXj"
   },
   "source": [
    "> Mendapatkan info column pada dataframe products_df\n",
    "\n"
   ]
  },
  {
   "cell_type": "code",
   "execution_count": null,
   "metadata": {
    "colab": {
     "base_uri": "https://localhost:8080/"
    },
    "id": "AsP7CGRkHFD3",
    "outputId": "e8817945-a2cb-439b-8500-0b784dfd525a"
   },
   "outputs": [],
   "source": [
    "orders_data_df.info()"
   ]
  },
  {
   "cell_type": "markdown",
   "metadata": {
    "id": "YIcRQ6I2vJH7"
   },
   "source": [
    "> Mengubah tipe data price ke integer\n",
    "\n"
   ]
  },
  {
   "cell_type": "code",
   "execution_count": null,
   "metadata": {
    "colab": {
     "base_uri": "https://localhost:8080/"
    },
    "id": "T8LEE-NId6Zo",
    "outputId": "d0806c6c-6cd3-48ac-fda0-4689618365b3"
   },
   "outputs": [],
   "source": [
    "orders_data_df['price'] = orders_data_df['price'].astype(int)\n",
    "orders_data_df.info()"
   ]
  },
  {
   "cell_type": "markdown",
   "metadata": {
    "id": "Uf5xZ21ZwHuT"
   },
   "source": [
    "> Mendapatkan informasi terkait missing value di dataframe products_df\n",
    "\n",
    "\n",
    "\n"
   ]
  },
  {
   "cell_type": "code",
   "execution_count": null,
   "metadata": {
    "colab": {
     "base_uri": "https://localhost:8080/"
    },
    "id": "ocDlNa2bHIGH",
    "outputId": "9823ec77-3f90-4401-b945-eeea6f1f19af"
   },
   "outputs": [],
   "source": [
    "orders_data_df.isnull().sum()"
   ]
  },
  {
   "cell_type": "markdown",
   "metadata": {
    "id": "YPt1IOtvwefq"
   },
   "source": [
    "\n",
    "\n",
    "> Mendapatkan informasi terkait duplikasi di dataframe orders_data_df\n",
    "\n"
   ]
  },
  {
   "cell_type": "code",
   "execution_count": null,
   "metadata": {
    "colab": {
     "base_uri": "https://localhost:8080/"
    },
    "id": "OXRdx4lL-Hn3",
    "outputId": "a09c2288-f59f-4d1a-e3b9-be0f050fddd2"
   },
   "outputs": [],
   "source": [
    "print(\"Jumlah duplikasi: \", orders_data_df.duplicated().sum())"
   ]
  },
  {
   "cell_type": "markdown",
   "metadata": {
    "id": "SMFBk7Luwl77"
   },
   "source": [
    "\n",
    "\n",
    "> Mendapatkan rangkuman parameter statistik dari dataframe orders_data_df\n",
    "\n"
   ]
  },
  {
   "cell_type": "code",
   "execution_count": null,
   "metadata": {
    "colab": {
     "base_uri": "https://localhost:8080/",
     "height": 0
    },
    "id": "5wTwhFDjv2eq",
    "outputId": "36cdf0ae-4a4d-45f9-90c0-8e225d79345a"
   },
   "outputs": [],
   "source": [
    "orders_data_df.describe()"
   ]
  },
  {
   "cell_type": "markdown",
   "metadata": {
    "id": "Uz5dgcJm9HW5"
   },
   "source": [
    "### Cleaning Data"
   ]
  },
  {
   "cell_type": "markdown",
   "metadata": {
    "id": "7ZC4AddB_Y23"
   },
   "source": [
    "####Products Data"
   ]
  },
  {
   "cell_type": "code",
   "execution_count": null,
   "metadata": {
    "colab": {
     "base_uri": "https://localhost:8080/"
    },
    "id": "CCszTdXD9Ivf",
    "outputId": "1210b2c0-33b6-4438-b705-0a51d7aeb6da"
   },
   "outputs": [],
   "source": [
    "products_df.dropna(axis=0, inplace=True)\n",
    "products_df.isnull().sum()"
   ]
  },
  {
   "cell_type": "code",
   "execution_count": null,
   "metadata": {
    "id": "L3bNzSHCYRf4"
   },
   "outputs": [],
   "source": [
    "products_data = products_df[['product_id','product_category_name']]"
   ]
  },
  {
   "cell_type": "code",
   "execution_count": null,
   "metadata": {
    "colab": {
     "base_uri": "https://localhost:8080/",
     "height": 175
    },
    "id": "5lHRe0fAIExW",
    "outputId": "1f67c682-fb00-4a62-efa5-909417b96a92"
   },
   "outputs": [],
   "source": [
    "products_data.describe()"
   ]
  },
  {
   "cell_type": "markdown",
   "metadata": {
    "id": "bxiCj0wO_cKg"
   },
   "source": [
    "####Orders Data"
   ]
  },
  {
   "cell_type": "code",
   "execution_count": null,
   "metadata": {
    "colab": {
     "base_uri": "https://localhost:8080/"
    },
    "id": "wK9ZwFl7BgQf",
    "outputId": "f4ec040d-1141-4dc6-84b4-80d96cd5b548"
   },
   "outputs": [],
   "source": [
    "orders_data_df.dropna(axis=0, inplace=True)\n",
    "orders_data_df.isnull().sum()"
   ]
  },
  {
   "cell_type": "code",
   "execution_count": null,
   "metadata": {
    "id": "G7ehcMhMY0EJ"
   },
   "outputs": [],
   "source": [
    "orders_data = orders_data_df[['order_id','product_id','price', 'payment_type','review_score','order_purchase_timestamp']]"
   ]
  },
  {
   "cell_type": "code",
   "execution_count": null,
   "metadata": {
    "colab": {
     "base_uri": "https://localhost:8080/",
     "height": 300
    },
    "id": "ldWgTZUQIMym",
    "outputId": "71c71852-aa19-4d18-ae22-57b918edd360"
   },
   "outputs": [],
   "source": [
    "orders_data.describe()"
   ]
  },
  {
   "cell_type": "markdown",
   "metadata": {
    "id": "EyPJaCDm9KFb"
   },
   "source": [
    "## Exploratory Data Analysis (EDA)"
   ]
  },
  {
   "cell_type": "markdown",
   "metadata": {
    "id": "IAaAYoFlsjXj"
   },
   "source": [
    "\n",
    "\n",
    "> Mendapatkan jumlah total produk unik dengan skor review 5\n",
    "\n"
   ]
  },
  {
   "cell_type": "code",
   "execution_count": null,
   "metadata": {
    "colab": {
     "base_uri": "https://localhost:8080/"
    },
    "id": "YRBC_OiGI2ZH",
    "outputId": "11d0fac8-a3bd-4c3e-a6fa-11ba5778530b"
   },
   "outputs": [],
   "source": [
    "orders_data.groupby(by=\"review_score\").product_id.nunique().sort_values(ascending=False)"
   ]
  },
  {
   "cell_type": "markdown",
   "metadata": {
    "id": "BFzF6BcCsrx6"
   },
   "source": [
    "\n",
    "\n",
    "> Mendapatkan produk id dengan skor review 5\n",
    "\n"
   ]
  },
  {
   "cell_type": "code",
   "execution_count": null,
   "metadata": {
    "colab": {
     "base_uri": "https://localhost:8080/",
     "height": 423
    },
    "id": "KW5_0waMMide",
    "outputId": "21e97659-b01e-4415-ac72-c0773e35cdb6"
   },
   "outputs": [],
   "source": [
    "best_reviewed_products_id_df = orders_data[orders_data['review_score'] == 5]\n",
    "best_reviewed_products_id_df"
   ]
  },
  {
   "cell_type": "markdown",
   "metadata": {
    "id": "Q6Vm5Wues3WC"
   },
   "source": [
    "\n",
    "\n",
    "> Mendapatkan nama kategori produk dengan skor review 5 dengan menggabungkan kedua dataframe\n",
    "\n"
   ]
  },
  {
   "cell_type": "code",
   "execution_count": null,
   "metadata": {
    "colab": {
     "base_uri": "https://localhost:8080/",
     "height": 383
    },
    "id": "nCpZvupQXMrh",
    "outputId": "7a85a07b-ee06-4a91-e358-e7dd36f0a8c0"
   },
   "outputs": [],
   "source": [
    "best_product_by_review_df = pd.merge(\n",
    "    left=products_data,\n",
    "    right=best_reviewed_products_id_df,\n",
    "    how=\"inner\",\n",
    "    left_on=\"product_id\",\n",
    "    right_on=\"product_id\"\n",
    ")\n",
    "best_product_by_review_df.head(10)"
   ]
  },
  {
   "cell_type": "markdown",
   "metadata": {
    "id": "B86VC_dIzMJ6"
   },
   "source": [
    "\n",
    "\n",
    "> Mendapatkan jumlah total tipe metode pembayaran\n",
    "\n"
   ]
  },
  {
   "cell_type": "code",
   "execution_count": null,
   "metadata": {
    "colab": {
     "base_uri": "https://localhost:8080/"
    },
    "id": "yzWeKcHRzIrS",
    "outputId": "2db9af8e-0f22-4df1-d651-deb21d2a5ae7"
   },
   "outputs": [],
   "source": [
    "orders_data.groupby(by=\"payment_type\").product_id.nunique().sort_values(ascending=False)"
   ]
  },
  {
   "cell_type": "markdown",
   "metadata": {
    "id": "19P1svmq0Gpj"
   },
   "source": [
    "\n",
    "> Mendapatkan produk berharga lebih dari USD 1000\n",
    "\n"
   ]
  },
  {
   "cell_type": "code",
   "execution_count": null,
   "metadata": {
    "colab": {
     "base_uri": "https://localhost:8080/",
     "height": 423
    },
    "id": "2A69cLV8zd5S",
    "outputId": "ca9197b9-d33a-4458-e3e3-3f548b7216b8"
   },
   "outputs": [],
   "source": [
    "price_gt_1000_df = orders_data[orders_data['price'] > 1000]\n",
    "price_gt_1000_df"
   ]
  },
  {
   "cell_type": "code",
   "execution_count": null,
   "metadata": {
    "colab": {
     "base_uri": "https://localhost:8080/",
     "height": 383
    },
    "id": "2kwRdmru0Spy",
    "outputId": "bed2677c-9960-40f0-b54d-bc6b9283dfba"
   },
   "outputs": [],
   "source": [
    "price_gt_1000_payment_type_df = pd.merge(\n",
    "    left=products_data,\n",
    "    right=price_gt_1000_df,\n",
    "    how=\"inner\",\n",
    "    left_on=\"product_id\",\n",
    "    right_on=\"product_id\"\n",
    ")\n",
    "price_gt_1000_payment_type_df.head(10)"
   ]
  },
  {
   "cell_type": "markdown",
   "metadata": {
    "id": "SCNmtOLp9OKB"
   },
   "source": [
    "## Visualization & Explanatory Analysis"
   ]
  },
  {
   "cell_type": "markdown",
   "metadata": {
    "id": "SG59_Fbj9Qr6"
   },
   "source": [
    "### Kategori produk apa saja yang memiliki review paling bagus (skor 5) di tahun 2018 dengan harga lebih dari USD 2000?\n"
   ]
  },
  {
   "cell_type": "markdown",
   "metadata": {
    "id": "-FpwcC2CtJYK"
   },
   "source": [
    "\n",
    "\n",
    "> Mendapatkan semua nama kategori produk dengan skor review 5 dengan harga lebih dari USD 2000 di tahun 2018\n",
    "\n"
   ]
  },
  {
   "cell_type": "code",
   "execution_count": null,
   "metadata": {
    "colab": {
     "base_uri": "https://localhost:8080/",
     "height": 0
    },
    "id": "dtRoaxqd9PdU",
    "outputId": "7bbbfb0b-a567-44bd-8d92-f78b426399a2"
   },
   "outputs": [],
   "source": [
    "df = best_product_by_review_df\n",
    "df['order_purchase_timestamp'] = pd.to_datetime(df['order_purchase_timestamp'])\n",
    "top_products = df[(df['price'] > 2000) & (df['order_purchase_timestamp'].dt.year == 2018)]\n",
    "unique_categories = top_products.drop_duplicates(subset='product_category_name')\n",
    "unique_categories[['product_category_name','review_score','price']]"
   ]
  },
  {
   "cell_type": "markdown",
   "metadata": {
    "id": "2d0odQdItTBT"
   },
   "source": [
    "\n",
    "\n",
    "> Membuat visualisasi berupa plot batang\n",
    "\n"
   ]
  },
  {
   "cell_type": "code",
   "execution_count": null,
   "metadata": {
    "colab": {
     "base_uri": "https://localhost:8080/",
     "height": 511
    },
    "id": "X3FdUq8Ehddn",
    "outputId": "6f885bb6-18bc-40bb-b1e2-eeb91ac05d9a"
   },
   "outputs": [],
   "source": [
    "categories = unique_categories['product_category_name']\n",
    "prices = unique_categories['price']\n",
    "\n",
    "plt.figure(figsize=(12, 6))\n",
    "plt.barh(categories, prices, color='skyblue')\n",
    "plt.xlabel('Harga')\n",
    "plt.ylabel('Kategori Produk')\n",
    "plt.title('Kategori Produk Berharga > USD 2000 dengan Skor Review 5 di Tahun 2018')\n",
    "plt.gca().invert_yaxis()\n",
    "plt.show()"
   ]
  },
  {
   "cell_type": "markdown",
   "metadata": {
    "id": "F2Bo_ypQ9RfH"
   },
   "source": [
    "### Metode pembayaran apa yang paling banyak digunakan pelanggan untuk membeli barang berharga USD 1000?\n"
   ]
  },
  {
   "cell_type": "markdown",
   "metadata": {
    "id": "2wg00gXg20Fy"
   },
   "source": [
    "\n",
    "\n",
    "> Mendapatkan kolom yang akan digunakan\n"
   ]
  },
  {
   "cell_type": "code",
   "execution_count": null,
   "metadata": {
    "colab": {
     "base_uri": "https://localhost:8080/",
     "height": 0
    },
    "id": "jkO5kTJq9S1Y",
    "outputId": "2113bba7-9611-4f2c-882e-14bb976d6e60"
   },
   "outputs": [],
   "source": [
    "price_gt_1000_payment_type_df[['product_category_name','price','payment_type']]"
   ]
  },
  {
   "cell_type": "markdown",
   "metadata": {
    "id": "yGHlpG4g241K"
   },
   "source": [
    "\n",
    "\n",
    "> Mendapatkan jumlah total payment_type\n",
    "\n"
   ]
  },
  {
   "cell_type": "code",
   "execution_count": null,
   "metadata": {
    "colab": {
     "base_uri": "https://localhost:8080/"
    },
    "id": "ZlcNf9lj1dK6",
    "outputId": "132dd51c-bbd0-4416-b31c-7a93fd0bd7b9"
   },
   "outputs": [],
   "source": [
    "price_gt_1000_payment_type_df.groupby(by=\"payment_type\").product_id.nunique().sort_values(ascending=False)"
   ]
  },
  {
   "cell_type": "markdown",
   "metadata": {
    "id": "RmkryDe527e6"
   },
   "source": [
    "\n",
    "\n",
    "> Membuat visualisasi berupa pie chart\n",
    "\n"
   ]
  },
  {
   "cell_type": "code",
   "execution_count": null,
   "metadata": {
    "colab": {
     "base_uri": "https://localhost:8080/",
     "height": 675
    },
    "id": "O4qg62Kj2inz",
    "outputId": "d0230311-ab6e-4699-9d8a-b5abd7d87b4a"
   },
   "outputs": [],
   "source": [
    "# Data\n",
    "payment_types = ['credit_card', 'boleto', 'debit_card', 'voucher']\n",
    "total_payments = [88, 9, 4, 4]\n",
    "\n",
    "# Warna yang akan digunakan pada setiap bagian pie chart\n",
    "colors = ['blue', 'green', 'red', 'purple']\n",
    "\n",
    "# Explode: Untuk memisahkan sebagian potongan pie (opsional)\n",
    "explode = (0.1, 0, 0, 0)  # Pemisahan potongan pertama (credit_card)\n",
    "\n",
    "# Membuat pie chart\n",
    "plt.figure(figsize=(8, 8))\n",
    "plt.pie(total_payments, labels=payment_types, colors=colors, explode=explode, autopct='%1.1f%%', startangle=140)\n",
    "plt.axis('equal')  # Membuat lingkaran menjadi bundar\n",
    "\n",
    "# Menambahkan judul\n",
    "plt.title('Metode Pembayaran Barang di atas USD 1000')\n",
    "\n",
    "# Menampilkan pie chart\n",
    "plt.show()"
   ]
  },
  {
   "cell_type": "markdown",
   "metadata": {
    "id": "J2CnXYGT9Tc2"
   },
   "source": [
    "## Conclusion"
   ]
  },
  {
   "cell_type": "markdown",
   "metadata": {
    "id": "f73FBkLw9V8C"
   },
   "source": [
    "Dari hasil analisis, dapat disimpulkan bahwa:\n",
    "- Ada 10 kategori produk yang memiliki harga lebih dari USD 2000 dan mendapatkan skor review sebesar 5 selama tahun 2018. Ini menunjukkan bahwa meskipun produk-produk ini memiliki harga yang tinggi, pelanggan masih memberikan penilaian yang sangat positif terhadap kualitas dan kepuasan mereka terhadap produk-produk tersebut. Kombinasi dari harga tinggi dan skor review yang tinggi ini mungkin mencerminkan kualitas yang sangat baik dari produk-produk dalam kategori-kategori tersebut, yang dapat menarik perhatian calon pembeli yang mencari produk-produk berkualitas tinggi. Analisis ini dapat menjadi acuan yang berguna dalam strategi pemasaran dan penawaran produk di masa mendatang.\n",
    "- Metode pembayaran yang paling banyak digunakan oleh pelanggan untuk produk dengan harga lebih dari USD 1000 adalah \"credit_card\" dengan jumlah transaksi sebanyak 88, yang jauh lebih dominan dibandingkan dengan metode pembayaran lainnya seperti \"boleto,\" \"debit_card,\" dan \"voucher.\" Hal ini menunjukkan bahwa mayoritas pelanggan lebih memilih menggunakan kartu kredit sebagai metode pembayaran saat mereka membeli produk dengan nilai transaksi yang tinggi, mungkin karena kemudahan dan fleksibilitas yang ditawarkan oleh metode pembayaran ini."
   ]
  },
  {
   "cell_type": "code",
   "execution_count": null,
   "metadata": {
    "colab": {
     "base_uri": "https://localhost:8080/",
     "height": 600
    },
    "id": "ttkWzbGiASar",
    "outputId": "2950300d-c337-4c23-870f-d68289abc7f4"
   },
   "outputs": [],
   "source": [
    "all_df = pd.merge(\n",
    "    left=products_data,\n",
    "    right=orders_data_df,\n",
    "    how=\"inner\",\n",
    "    left_on=\"product_id\",\n",
    "    right_on=\"product_id\"\n",
    ")\n",
    "all_df"
   ]
  },
  {
   "cell_type": "code",
   "execution_count": null,
   "metadata": {
    "id": "zCRTGt1TAGXa"
   },
   "outputs": [],
   "source": [
    "all_df.to_csv(\"all_data.csv\", index=False)"
   ]
  }
 ],
 "metadata": {
  "colab": {
   "provenance": []
  },
  "kernelspec": {
   "display_name": "Python 3 (ipykernel)",
   "language": "python",
   "name": "python3"
  },
  "language_info": {
   "codemirror_mode": {
    "name": "ipython",
    "version": 3
   },
   "file_extension": ".py",
   "mimetype": "text/x-python",
   "name": "python",
   "nbconvert_exporter": "python",
   "pygments_lexer": "ipython3",
   "version": "3.9.17"
  }
 },
 "nbformat": 4,
 "nbformat_minor": 4
}
